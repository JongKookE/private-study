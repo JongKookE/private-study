{
 "cells": [
  {
   "cell_type": "code",
   "execution_count": null,
   "metadata": {},
   "outputs": [],
   "source": [
    "import numpy as np  # numpy 라이브러리를 np로 import\n",
    "import pandas as pd  # pandas 라이브러리를 pd로 import\n",
    "import seaborn as sns  # seaborn 라이브러리를 sns로 import\n",
    "import matplotlib.pyplot as plt  # matplotlib 라이브러리의 pyplot 모듈을 plt로 import\n"
   ]
  },
  {
   "cell_type": "code",
   "execution_count": null,
   "metadata": {},
   "outputs": [],
   "source": [
    "raw = pd.read_csv(\"kaggle_survey_2020_responses.csv\", low_memory=False)\n",
    "raw.head()"
   ]
  },
  {
   "cell_type": "code",
   "execution_count": null,
   "metadata": {},
   "outputs": [],
   "source": [
    "question = raw.iloc[0]\n",
    "question"
   ]
  },
  {
   "attachments": {},
   "cell_type": "markdown",
   "metadata": {},
   "source": [
    "# iloc와 loc의 차이\n",
    "\n",
    "'iloc' 행과 열의 위치(integer position)을 기반으로 데이터를 선택\n",
    "'loc' 행의 라벨을 기반으로 데이터를 선택"
   ]
  },
  {
   "cell_type": "code",
   "execution_count": null,
   "metadata": {},
   "outputs": [],
   "source": [
    "answer = raw.drop([0]) #0번째 인덱스만 제거하여 질문에 대한 답변만 저장\n",
    "answer"
   ]
  },
  {
   "cell_type": "code",
   "execution_count": null,
   "metadata": {},
   "outputs": [],
   "source": [
    "answer.shape"
   ]
  },
  {
   "cell_type": "code",
   "execution_count": null,
   "metadata": {},
   "outputs": [],
   "source": [
    "question_no2 = \"Q2\"\n",
    "Q2 = answer[question_no2].value_counts()\n",
    "Q2"
   ]
  },
  {
   "cell_type": "code",
   "execution_count": null,
   "metadata": {},
   "outputs": [],
   "source": [
    "sns.countplot(data=answer, y = question_no2).set_title(question[question_no2])"
   ]
  },
  {
   "cell_type": "code",
   "execution_count": null,
   "metadata": {},
   "outputs": [],
   "source": [
    "sns.barplot(x = Q2.index, y=Q2.values)\n",
    "sns.set_style(\"whitegrid\")\n",
    "plt.title(question[question_no2])\n",
    "plt.show()"
   ]
  },
  {
   "cell_type": "code",
   "execution_count": null,
   "metadata": {},
   "outputs": [],
   "source": [
    "ManWo = [\"Man\", \"Woman\"]"
   ]
  },
  {
   "cell_type": "code",
   "execution_count": null,
   "metadata": {},
   "outputs": [],
   "source": [
    "q1q2 = pd.crosstab(answer[\"Q1\"], answer[\"Q2\"])\n",
    "\n",
    "q1q2[ManWo].plot.bar(rot=0)"
   ]
  },
  {
   "attachments": {
    "image.png": {
     "image/png": "[encoded data removed]"
    }
   },
   "cell_type": "markdown",
   "metadata": {},
   "source": [
    "rot=0은 x축 레이블을 회전하지않고 수평으로 유지하도록 저장\n",
    "\n",
    "![image.png](attachment:image.png)\n",
    "<br>\n",
    "rot = 90이 되니 x축이 회전한 모습"
   ]
  },
  {
   "cell_type": "code",
   "execution_count": null,
   "metadata": {},
   "outputs": [],
   "source": [
    "q1q2[ManWo].sort_index(ascending=False).plot.barh(title = \"Age & Gender\")"
   ]
  },
  {
   "cell_type": "code",
   "execution_count": null,
   "metadata": {},
   "outputs": [],
   "source": [
    "order_list = [x for x in answer[\"Q5\"]]\n",
    "order_list = set(order_list)\n",
    "\n",
    "real_order_list = list(order_list)\n"
   ]
  },
  {
   "cell_type": "code",
   "execution_count": null,
   "metadata": {},
   "outputs": [],
   "source": [
    "real_order_list"
   ]
  },
  {
   "cell_type": "code",
   "execution_count": null,
   "metadata": {},
   "outputs": [],
   "source": [
    "def show_countplot_by_question_number(qno, fsize = (10,6), order = None, palette = None):\n",
    "    if not order:\n",
    "        order = answer[qno].value_counts().index\n",
    "    plt.figure(figsize = fsize)\n",
    "    sns.countplot(data=answer, y = qno, order = order, palette=palette).set_title(question[qno])\n",
    "\n",
    "\n",
    "show_countplot_by_question_number(\"Q5\", palette=\"Greens_r\")"
   ]
  },
  {
   "attachments": {},
   "cell_type": "markdown",
   "metadata": {},
   "source": [
    "### order \n",
    "카테고리를 정렬하는 방법을 지정하는 매개변수\n",
    "<br>\n",
    "order = [\"카테고리1\", \"카테고리2\", \"카테고리3\"] \n",
    "<br>\n",
    "order라는 리스트의 순서대로 정렬이 됨\n",
    "<br>\n",
    "잘 사용되면 value_counts().sort()등을 사용하지 않아도 될수도..?\n"
   ]
  },
  {
   "cell_type": "code",
   "execution_count": null,
   "metadata": {},
   "outputs": [],
   "source": [
    "show_countplot_by_question_number(\"Q6\", palette=\"Greens_r\")"
   ]
  },
  {
   "cell_type": "code",
   "execution_count": null,
   "metadata": {},
   "outputs": [],
   "source": [
    "answer_Q7 = answer.filter(regex=\"Q7\")\n",
    "# print(answer_Q7.isnull().sum())\n",
    "\n",
    "answer_Q7_desc = answer_Q7.describe()\n",
    "print(answer_Q7_desc)"
   ]
  },
  {
   "cell_type": "code",
   "execution_count": null,
   "metadata": {},
   "outputs": [],
   "source": [
    "answer_Q7_count = answer_Q7_desc.loc[[\"top\", \"count\"]].T\n",
    "answer_Q7_count = answer_Q7_count.set_index(\"top\")\n",
    "answer_Q7_count = answer_Q7_count.sort_values(\"count\", ascending=False)\n",
    "answer_Q7_count.plot.bar(rot=45)"
   ]
  },
  {
   "cell_type": "code",
   "execution_count": null,
   "metadata": {},
   "outputs": [],
   "source": [
    "sns.barplot(data = answer_Q7_count, x = answer_Q7_count.index, y = \"count\").set_title(\"Programming Tools\")\n",
    "plt.xticks(rotation=45)\n",
    "plt.show()"
   ]
  },
  {
   "cell_type": "code",
   "execution_count": null,
   "metadata": {},
   "outputs": [],
   "source": [
    "q6_index = answer[\"Q6\"].value_counts().index.tolist()\n",
    "show_countplot_by_question_number(\"Q6\", order = q6_index)"
   ]
  },
  {
   "cell_type": "code",
   "execution_count": null,
   "metadata": {},
   "outputs": [],
   "source": [
    "q7_title = question.filter(regex=\"Q7\")[0].split(\"-\")[0]\n",
    "sns.barplot(data = answer_Q7_count, y = answer_Q7_count.index, x = \"count\").set_title(q7_title)\n",
    "plt.xticks(rotation = 45)\n",
    "plt.show()"
   ]
  },
  {
   "cell_type": "code",
   "execution_count": null,
   "metadata": {},
   "outputs": [],
   "source": [
    "def get_question_title(qno):\n",
    "    if qno in question.index:\n",
    "        return question[qno]\n",
    "    else:\n",
    "        return question.filter(regex=qno)[0].split(\"-\")[0]   \n",
    "    \n",
    "get_question_title(\"Q7\")"
   ]
  },
  {
   "cell_type": "code",
   "execution_count": null,
   "metadata": {},
   "outputs": [],
   "source": [
    "def get_multiple_choice_answer_by_qno(qno):\n",
    "    answer_count = answer.filter(regex=qno).describe().loc[[\"top\", \"count\"]].T.set_index(\"top\").sort_values(by = \"count\", ascending=False)\n",
    "    return answer_count"
   ]
  },
  {
   "cell_type": "code",
   "execution_count": null,
   "metadata": {},
   "outputs": [],
   "source": [
    "get_multiple_choice_answer_by_qno(\"Q9\")"
   ]
  },
  {
   "cell_type": "code",
   "execution_count": null,
   "metadata": {},
   "outputs": [],
   "source": [
    "def get_multiple_choice_bar_plot_by_qno(qno, palette = None):\n",
    "    answer_count = get_multiple_choice_answer_by_qno(qno)\n",
    "    return sns.barplot(data = answer_count, x = \"count\" , y =answer_count.index, palette = palette).set_title(get_question_title(qno))"
   ]
  },
  {
   "cell_type": "code",
   "execution_count": null,
   "metadata": {},
   "outputs": [],
   "source": [
    "get_multiple_choice_bar_plot_by_qno(\"Q7\", palette = \"Blues_r\")"
   ]
  },
  {
   "cell_type": "code",
   "execution_count": null,
   "metadata": {},
   "outputs": [],
   "source": [
    "q7_cols = answer.filter(regex = \"Q7\").describe().loc[\"top\"].tolist()\n",
    "q2q7 = answer.filter(regex=\"Q7|Q2$\") # $는 정규표현식에서 끝을 의미함 그러니까 Q2로 끝나는 문자를 찾는다는 것\n",
    "q2q7_count = q2q7.groupby(\"Q2\").count()\n",
    "q2q7_count.columns = q7_cols\n",
    "q2q7_count"
   ]
  },
  {
   "cell_type": "code",
   "execution_count": null,
   "metadata": {},
   "outputs": [],
   "source": [
    "def show_multiple_choice_bar_plot_by_qno(qno):\n",
    "    \n",
    "    return 0"
   ]
  }
 ],
 "metadata": {
  "kernelspec": {
   "display_name": "Python 3",
   "language": "python",
   "name": "python3"
  },
  "language_info": {
   "codemirror_mode": {
    "name": "ipython",
    "version": 3
   },
   "file_extension": ".py",
   "mimetype": "text/x-python",
   "name": "python",
   "nbconvert_exporter": "python",
   "pygments_lexer": "ipython3",
   "version": "3.8.1"
  },
  "orig_nbformat": 4
 },
 "nbformat": 4,
 "nbformat_minor": 2
}
